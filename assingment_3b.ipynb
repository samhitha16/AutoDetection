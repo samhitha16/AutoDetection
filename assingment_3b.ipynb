{
 "cells": [
  {
   "cell_type": "code",
   "execution_count": 10,
   "metadata": {
    "id": "MGUte1MsDqWH"
   },
   "outputs": [
    {
     "name": "stdout",
     "output_type": "stream",
     "text": [
      "Requirement already up-to-date: alexnet_pytorch in /home/samhitha/.local/lib/python3.8/site-packages (0.2.0)\r\n",
      "Requirement already satisfied, skipping upgrade: torch in /home/samhitha/.local/lib/python3.8/site-packages (from alexnet_pytorch) (1.11.0)\r\n",
      "Requirement already satisfied, skipping upgrade: typing-extensions in /home/samhitha/.local/lib/python3.8/site-packages (from torch->alexnet_pytorch) (4.0.1)\r\n"
     ]
    }
   ],
   "source": [
    "!pip3 install --upgrade alexnet_pytorch"
   ]
  },
  {
   "cell_type": "code",
   "execution_count": 11,
   "metadata": {
    "id": "J84qP7Bj08Pf"
   },
   "outputs": [],
   "source": [
    "import torch \n",
    "import torchvision\n",
    "import torchvision.transforms as transforms\n",
    "import torch.nn as nn\n",
    "import torch.nn.functional as F\n",
    "import torch.optim as optim\n",
    "import time\n",
    "from alexnet_pytorch import AlexNet\n",
    "import torch.optim as optim"
   ]
  },
  {
   "cell_type": "code",
   "execution_count": 12,
   "metadata": {
    "colab": {
     "base_uri": "https://localhost:8080/"
    },
    "id": "-HaIZEno1BSL",
    "outputId": "2eb3e6eb-5878-41ab-ffd6-77283a3bb14d"
   },
   "outputs": [
    {
     "data": {
      "text/plain": [
       "<torch._C.Generator at 0x7f7dbc1063f0>"
      ]
     },
     "execution_count": 12,
     "metadata": {},
     "output_type": "execute_result"
    }
   ],
   "source": [
    "torch.manual_seed(0)"
   ]
  },
  {
   "cell_type": "code",
   "execution_count": 20,
   "metadata": {
    "colab": {
     "base_uri": "https://localhost:8080/"
    },
    "id": "IQykzgqx7_FG",
    "outputId": "4b196d83-15ad-4423-84c7-d18b96bfbea8"
   },
   "outputs": [],
   "source": [
    "transform = transforms.Compose([transforms.ToTensor(),transforms.Resize(224),transforms.Normalize((0.5, 0.5, 0.5), (0.5, 0.5, 0.5))])\n",
    "\n",
    "trainset = torchvision.datasets.EuroSAT(root=\"./Data1/train\",transform=transform,download=True)\n",
    "\n",
    "trainloader = torch.utils.data.DataLoader(trainset, batch_size=8,shuffle=True, num_workers=2)\n",
    "\n",
    "testset = torchvision.datasets.EuroSAT(root='./Data1/test',download=True, transform=transform)\n",
    "\n",
    "testloader = torch.utils.data.DataLoader(testset, batch_size=8,shuffle=False, num_workers=2)\n",
    "\n",
    "classes = ('AnnualCrop', 'Forest', 'Highway', 'Industrial', 'Pasture', 'PermanentCrop', 'Residential', 'River', 'SeaLake', 'HerbaceousVegetation')"
   ]
  },
  {
   "cell_type": "code",
   "execution_count": 21,
   "metadata": {
    "id": "DleVeKLERVas"
   },
   "outputs": [
    {
     "name": "stderr",
     "output_type": "stream",
     "text": [
      "Using cache found in /home/samhitha/.cache/torch/hub/pytorch_vision_v0.6.0\n"
     ]
    }
   ],
   "source": [
    "AlexNet_model = torch.hub.load('pytorch/vision:v0.6.0', 'alexnet', pretrained=True)"
   ]
  },
  {
   "cell_type": "code",
   "execution_count": 22,
   "metadata": {
    "id": "oUFXkHSrRVRx"
   },
   "outputs": [],
   "source": [
    "AlexNet_model.classifier[4] = nn.Linear(4096,1024)\n",
    "AlexNet_model.classifier[6] = nn.Linear(1024,10)"
   ]
  },
  {
   "cell_type": "code",
   "execution_count": 23,
   "metadata": {
    "id": "y1jtdARYRVIt"
   },
   "outputs": [],
   "source": [
    "import torch.optim as optim\n",
    "\n",
    "criterion = nn.CrossEntropyLoss()\n",
    "optimizer = optim.SGD(AlexNet_model.parameters(), lr=0.001,momentum=0.9)"
   ]
  },
  {
   "cell_type": "code",
   "execution_count": 24,
   "metadata": {},
   "outputs": [
    {
     "name": "stdout",
     "output_type": "stream",
     "text": [
      "[1,  1000] loss: 0.851\n",
      "[1,  2000] loss: 0.513\n",
      "[1,  3000] loss: 0.430\n",
      "[2,  1000] loss: 0.326\n",
      "[2,  2000] loss: 0.295\n",
      "[2,  3000] loss: 0.287\n",
      "[3,  1000] loss: 0.227\n",
      "[3,  2000] loss: 0.251\n",
      "[3,  3000] loss: 0.213\n",
      "[4,  1000] loss: 0.174\n",
      "[4,  2000] loss: 0.183\n",
      "[4,  3000] loss: 0.162\n",
      "[5,  1000] loss: 0.151\n",
      "[5,  2000] loss: 0.141\n",
      "[5,  3000] loss: 0.147\n",
      "[6,  1000] loss: 0.113\n",
      "[6,  2000] loss: 0.117\n",
      "[6,  3000] loss: 0.114\n",
      "[7,  1000] loss: 0.095\n",
      "[7,  2000] loss: 0.110\n",
      "[7,  3000] loss: 0.099\n",
      "[8,  1000] loss: 0.087\n",
      "[8,  2000] loss: 0.089\n",
      "[8,  3000] loss: 0.099\n",
      "[9,  1000] loss: 0.071\n",
      "[9,  2000] loss: 0.061\n",
      "[9,  3000] loss: 0.074\n",
      "[10,  1000] loss: 0.070\n",
      "[10,  2000] loss: 0.084\n",
      "[10,  3000] loss: 0.080\n",
      "Finished Training\n",
      "Time taken to train is 18644.870888471603 seconds\n"
     ]
    }
   ],
   "source": [
    "start_time = time.time()\n",
    "for iteration in range(10):  # loop over the dataset multiple times\n",
    "\n",
    "    iterative_loss = 0.0\n",
    "    for i, (inputs,labels) in enumerate(trainloader, 0):\n",
    "\n",
    "        # zero the parameter gradients\n",
    "        optimizer.zero_grad()\n",
    "\n",
    "        # forward + backward + optimize\n",
    "        outputs = AlexNet_model(inputs)\n",
    "        loss = criterion(outputs, labels)\n",
    "        loss.backward()\n",
    "        optimizer.step()\n",
    "\n",
    "        iterative_loss += loss.item()\n",
    "        if i % 1000 == 999:    # print every 1000 mini-batches\n",
    "            print('[%d, %5d] loss: %.3f' %\n",
    "                  (iteration + 1, i + 1, iterative_loss / 1000))\n",
    "            # print(loss.item())\n",
    "            iterative_loss = 0.0\n",
    "\n",
    "print('Finished Training')\n",
    "print(\"Time taken to train is %s seconds\" % (time.time() - start_time))"
   ]
  },
  {
   "cell_type": "code",
   "execution_count": 25,
   "metadata": {
    "colab": {
     "base_uri": "https://localhost:8080/"
    },
    "id": "RFxDqHjPRDpi",
    "outputId": "ccd03dab-295e-4d7a-cc26-eccd5e777a26"
   },
   "outputs": [
    {
     "name": "stdout",
     "output_type": "stream",
     "text": [
      "Accuracy of the network on the 10000 test images: 97 %\n"
     ]
    }
   ],
   "source": [
    "correct = 0\n",
    "total = 0\n",
    "with torch.no_grad():\n",
    "    for data in testloader:\n",
    "        images, labels = data\n",
    "        outputs = AlexNet_model(images)\n",
    "        _, predicted = torch.max(outputs.data, 1)\n",
    "        total += labels.size(0)\n",
    "        correct += (predicted == labels).sum().item()\n",
    "\n",
    "print('Accuracy of the network on the 10000 test images: %d %%' % (\n",
    "    100 * correct / total))"
   ]
  },
  {
   "cell_type": "code",
   "execution_count": 27,
   "metadata": {},
   "outputs": [],
   "source": [
    "#Instantiating CUDA device\n",
    "device = torch.device(\"cuda:0\" if torch.cuda.is_available() else \"cpu\")"
   ]
  },
  {
   "cell_type": "code",
   "execution_count": 28,
   "metadata": {},
   "outputs": [
    {
     "name": "stdout",
     "output_type": "stream",
     "text": [
      "Accuracy of AnnualCrop : 99 %\n",
      "Accuracy of Forest : 95 %\n",
      "Accuracy of Highway : 94 %\n",
      "Accuracy of Industrial : 98 %\n",
      "Accuracy of Pasture : 99 %\n",
      "Accuracy of PermanentCrop : 98 %\n",
      "Accuracy of Residential : 97 %\n",
      "Accuracy of River : 99 %\n",
      "Accuracy of SeaLake : 96 %\n",
      "Accuracy of HerbaceousVegetation : 99 %\n"
     ]
    }
   ],
   "source": [
    "#Testing classification accuracy for individual classes.\n",
    "class_correct = list(0. for i in range(10))\n",
    "class_total = list(0. for i in range(10))\n",
    "with torch.no_grad():\n",
    "    for data in testloader:\n",
    "        images, labels = data[0].to(device), data[1].to(device)\n",
    "        outputs = AlexNet_model(images)\n",
    "        _, predicted = torch.max(outputs, 1)\n",
    "        c = (predicted == labels).squeeze()\n",
    "        for i in range(4):\n",
    "            label = labels[i]\n",
    "            class_correct[label] += c[i].item()\n",
    "            class_total[label] += 1\n",
    "\n",
    "for i in range(10):\n",
    "    print('Accuracy of %5s : %2d %%' % (\n",
    "        classes[i], 100 * class_correct[i] / class_total[i]))"
   ]
  }
 ],
 "metadata": {
  "colab": {
   "name": "Untitled1.ipynb",
   "provenance": []
  },
  "kernelspec": {
   "display_name": "Python 3 (ipykernel)",
   "language": "python",
   "name": "python3"
  },
  "language_info": {
   "codemirror_mode": {
    "name": "ipython",
    "version": 3
   },
   "file_extension": ".py",
   "mimetype": "text/x-python",
   "name": "python",
   "nbconvert_exporter": "python",
   "pygments_lexer": "ipython3",
   "version": "3.8.10"
  }
 },
 "nbformat": 4,
 "nbformat_minor": 1
}
