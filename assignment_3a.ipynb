{
 "cells": [
  {
   "cell_type": "code",
   "execution_count": 1,
   "id": "a6f2e4e9",
   "metadata": {},
   "outputs": [],
   "source": [
    "import torch \n",
    "import torchvision\n",
    "import torchvision.transforms as transforms\n",
    "import torch.nn as nn\n",
    "import torch.nn.functional as F\n",
    "import torch.optim as optim\n",
    "import time"
   ]
  },
  {
   "cell_type": "code",
   "execution_count": 2,
   "id": "dbf78fad",
   "metadata": {},
   "outputs": [
    {
     "data": {
      "text/plain": [
       "<torch._C.Generator at 0x7f0c2f2c1b90>"
      ]
     },
     "execution_count": 2,
     "metadata": {},
     "output_type": "execute_result"
    }
   ],
   "source": [
    "torch.manual_seed(0)"
   ]
  },
  {
   "cell_type": "code",
   "execution_count": 3,
   "id": "18b9054b",
   "metadata": {},
   "outputs": [
    {
     "name": "stdout",
     "output_type": "stream",
     "text": [
      "Files already downloaded and verified\n",
      "Files already downloaded and verified\n"
     ]
    }
   ],
   "source": [
    "transform = transforms.Compose([transforms.ToTensor(),transforms.Normalize((0.5, 0.5, 0.5), (0.5, 0.5, 0.5))])\n",
    "\n",
    "trainset = torchvision.datasets.CIFAR10(root='home/cifar10/', train=True,download=True, transform=transform)\n",
    "\n",
    "trainloader = torch.utils.data.DataLoader(trainset, batch_size=8,shuffle=True, num_workers=2)\n",
    "\n",
    "testset = torchvision.datasets.CIFAR10(root='./data', train=False,download=True, transform=transform)\n",
    "\n",
    "testloader = torch.utils.data.DataLoader(testset, batch_size=8,shuffle=False, num_workers=2)\n",
    "\n",
    "classes = ('plane', 'car', 'bird', 'cat','deer', 'dog', 'frog', 'horse', 'ship', 'truck')"
   ]
  },
  {
   "cell_type": "code",
   "execution_count": 50,
   "id": "33220c6b",
   "metadata": {},
   "outputs": [],
   "source": [
    "class CNNModule(nn.Module):\n",
    "    def __init__(self):\n",
    "        super(CNNModule, self).__init__()\n",
    "        self.conv1 = nn.Conv2d(3, 9, 5,padding=2)\n",
    "        self.pool = nn.MaxPool2d(2, 2)\n",
    "        self.conv2 = nn.Conv2d(9, 27, 5)\n",
    "        self.conv3 = nn.Conv2d(27, 54, 5)\n",
    "        #self.conv4 = nn.Conv2d(54, 108, 5) \n",
    "        #self.conv5 = nn.Conv2d(108, 216, 5) \n",
    "        self.fc1 = nn.Linear(54 * 1 * 1, 180) #Size of filter*height*width\n",
    "        self.fc2 = nn.Linear(180, 64)\n",
    "        self.fc3 = nn.Linear(64, 10)\n",
    "        self.batch1 = nn.BatchNorm2d(9)\n",
    "        self.batch2 = nn.BatchNorm2d(27)\n",
    "        self.batch3 = nn.BatchNorm2d(54)\n",
    "        self.batch4 = nn.BatchNorm2d(108)\n",
    "        #self.batch5 = nn.BatchNorm2d(216)\n",
    "\n",
    "    def forward(self, x):\n",
    "        out = self.pool(F.relu(self.batch1(self.conv1(x))))\n",
    "        out = self.pool(F.relu(self.batch2(self.conv2(out))))\n",
    "        out = self.pool(F.relu(self.batch3(self.conv3(out))))\n",
    "        #out = self.pool(F.relu(self.batch4(self.conv4(out))))\n",
    "        #out = self.pool(F.relu(self.batch5(self.conv5(out))))\n",
    "        #print(out.shape)\n",
    "        #x = self.pool(F.relu(self.batch4(self.conv4(x))))\n",
    "        out = out.view(out.size(0), -1) #Size of filter*height*width\n",
    "        out = F.relu(self.fc1(out))\n",
    "        out = F.relu(self.fc2(out))\n",
    "        out = self.fc3(out)\n",
    "        return out"
   ]
  },
  {
   "cell_type": "code",
   "execution_count": 51,
   "id": "3e2ee940",
   "metadata": {},
   "outputs": [],
   "source": [
    "cnn = CNNModule()"
   ]
  },
  {
   "cell_type": "code",
   "execution_count": 54,
   "id": "6e8162bd",
   "metadata": {},
   "outputs": [],
   "source": [
    "criterion = nn.CrossEntropyLoss()\n",
    "optimizer = optim.SGD(cnn.parameters(), lr=0.001, momentum = 0.9)"
   ]
  },
  {
   "cell_type": "code",
   "execution_count": 57,
   "id": "6a0b4f82",
   "metadata": {},
   "outputs": [
    {
     "name": "stdout",
     "output_type": "stream",
     "text": [
      "[1,  1000] loss: 0.752\n",
      "[1,  2000] loss: 0.770\n",
      "[1,  3000] loss: 0.805\n",
      "[1,  4000] loss: 0.822\n",
      "[1,  5000] loss: 0.787\n",
      "[1,  6000] loss: 0.831\n",
      "[2,  1000] loss: 0.758\n",
      "[2,  2000] loss: 0.753\n",
      "[2,  3000] loss: 0.792\n",
      "[2,  4000] loss: 0.769\n",
      "[2,  5000] loss: 0.790\n",
      "[2,  6000] loss: 0.800\n",
      "[3,  1000] loss: 0.721\n",
      "[3,  2000] loss: 0.754\n",
      "[3,  3000] loss: 0.773\n",
      "[3,  4000] loss: 0.781\n",
      "[3,  5000] loss: 0.778\n",
      "[3,  6000] loss: 0.768\n",
      "[4,  1000] loss: 0.737\n",
      "[4,  2000] loss: 0.741\n",
      "[4,  3000] loss: 0.758\n",
      "[4,  4000] loss: 0.749\n",
      "[4,  5000] loss: 0.751\n",
      "[4,  6000] loss: 0.749\n",
      "[5,  1000] loss: 0.696\n",
      "[5,  2000] loss: 0.718\n",
      "[5,  3000] loss: 0.720\n",
      "[5,  4000] loss: 0.734\n",
      "[5,  5000] loss: 0.761\n",
      "[5,  6000] loss: 0.744\n",
      "[6,  1000] loss: 0.692\n",
      "[6,  2000] loss: 0.703\n",
      "[6,  3000] loss: 0.724\n",
      "[6,  4000] loss: 0.733\n",
      "[6,  5000] loss: 0.715\n",
      "[6,  6000] loss: 0.730\n",
      "[7,  1000] loss: 0.667\n",
      "[7,  2000] loss: 0.680\n",
      "[7,  3000] loss: 0.688\n",
      "[7,  4000] loss: 0.710\n",
      "[7,  5000] loss: 0.717\n",
      "[7,  6000] loss: 0.713\n",
      "[8,  1000] loss: 0.674\n",
      "[8,  2000] loss: 0.677\n",
      "[8,  3000] loss: 0.688\n",
      "[8,  4000] loss: 0.698\n",
      "[8,  5000] loss: 0.707\n",
      "[8,  6000] loss: 0.700\n",
      "[9,  1000] loss: 0.646\n",
      "[9,  2000] loss: 0.681\n",
      "[9,  3000] loss: 0.660\n",
      "[9,  4000] loss: 0.678\n",
      "[9,  5000] loss: 0.680\n",
      "[9,  6000] loss: 0.704\n",
      "[10,  1000] loss: 0.645\n",
      "[10,  2000] loss: 0.677\n",
      "[10,  3000] loss: 0.676\n",
      "[10,  4000] loss: 0.681\n",
      "[10,  5000] loss: 0.691\n",
      "[10,  6000] loss: 0.676\n",
      "Finished Training\n",
      "Time taken to train is 618.7477195262909 seconds\n"
     ]
    }
   ],
   "source": [
    "start_time = time.time()\n",
    "for iteration in range(10):  # loop over the dataset multiple times\n",
    "\n",
    "    iterative_loss = 0.0\n",
    "    for i, (inputs,labels) in enumerate(trainloader, 0):\n",
    "\n",
    "        # zero the parameter gradients\n",
    "        optimizer.zero_grad()\n",
    "\n",
    "        # forward + backward + optimize\n",
    "        outputs = cnn(inputs)\n",
    "        loss = criterion(outputs, labels)\n",
    "        loss.backward()\n",
    "        optimizer.step()\n",
    "\n",
    "        iterative_loss += loss.item()\n",
    "        if i % 1000 == 999:    # print every 1000 mini-batches\n",
    "            print('[%d, %5d] loss: %.3f' %\n",
    "                  (iteration + 1, i + 1, iterative_loss / 1000))\n",
    "            # print(loss.item())\n",
    "            iterative_loss = 0.0\n",
    "\n",
    "print('Finished Training')\n",
    "print(\"Time taken to train is %s seconds\" % (time.time() - start_time))"
   ]
  },
  {
   "cell_type": "code",
   "execution_count": 58,
   "id": "e7e6f2a8",
   "metadata": {},
   "outputs": [
    {
     "name": "stdout",
     "output_type": "stream",
     "text": [
      "Accuracy of the network on the 10000 test images: 65 %\n"
     ]
    }
   ],
   "source": [
    "correct = 0\n",
    "total = 0\n",
    "with torch.no_grad():\n",
    "    for data in testloader:\n",
    "        images, labels = data\n",
    "        outputs = cnn(images)\n",
    "        _, predicted = torch.max(outputs.data, 1)\n",
    "        total += labels.size(0)\n",
    "        correct += (predicted == labels).sum().item()\n",
    "\n",
    "print('Accuracy of the network on the 10000 test images: %d %%' % (\n",
    "    100 * correct / total))"
   ]
  },
  {
   "cell_type": "code",
   "execution_count": null,
   "id": "bda1e2b2",
   "metadata": {},
   "outputs": [],
   "source": []
  }
 ],
 "metadata": {
  "kernelspec": {
   "display_name": "Python 3 (ipykernel)",
   "language": "python",
   "name": "python3"
  },
  "language_info": {
   "codemirror_mode": {
    "name": "ipython",
    "version": 3
   },
   "file_extension": ".py",
   "mimetype": "text/x-python",
   "name": "python",
   "nbconvert_exporter": "python",
   "pygments_lexer": "ipython3",
   "version": "3.8.10"
  }
 },
 "nbformat": 4,
 "nbformat_minor": 5
}
